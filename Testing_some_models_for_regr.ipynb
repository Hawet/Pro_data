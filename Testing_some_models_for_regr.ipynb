{
 "cells": [
  {
   "cell_type": "code",
   "execution_count": 18,
   "metadata": {},
   "outputs": [],
   "source": [
    "import numpy as np # linear algebra\n",
    "import pandas as pd # data processing, CSV file I/O (e.g. pd.read_csv)\n",
    "from tqdm import tqdm\n",
    "import sklearn as sk\n",
    "from xgboost import XGBRegressor\n",
    "\n",
    "from hyperopt import tpe, hp, fmin, STATUS_OK,Trials\n",
    "from hyperopt.pyll.base import scope\n",
    "import gc\n",
    "import warnings\n",
    "warnings.filterwarnings('ignore')"
   ]
  },
  {
   "cell_type": "code",
   "execution_count": 104,
   "metadata": {},
   "outputs": [],
   "source": [
    "def preprocess(df):\n",
    "\n",
    "    del df['Код']\n",
    "    del df['Адрес']\n",
    "    del df['Год постройки']\n",
    "    del df['Объект']\n",
    "    del df['Поселение']\n",
    "    \n",
    "    #Replace NaN values\n",
    "    for col in df.columns.tolist():\n",
    "        #print(col)\n",
    "        if df[col].dtype == object:\n",
    "            df[col] = df[col].fillna(df[col].mode()[0])\n",
    "            #Get Dummies\n",
    "            df = pd.get_dummies(df, columns=[col])\n",
    "        else:\n",
    "            df[col] = df[col].fillna(df[col].mean())   \n",
    "           \n",
    "        print(\"done col=\",col)\n",
    "    \n",
    "   \n",
    "    \n",
    "    \n",
    "    return df\n",
    "\n",
    "\n",
    "# Reducing mem usage by changing datatypes\n",
    "\n",
    "def chage_dtypes(df):\n",
    "    for col in df.columns.tolist():\n",
    "        if df[col].dtype == 'float64':\n",
    "            df[col].dtype =='float16'\n",
    "    return df\n",
    "\n",
    "def reduce_mem_usage(df, verbose=True):\n",
    "    numerics = ['int16', 'int32', 'int64', 'float16', 'float32', 'float64']\n",
    "    start_mem = df.memory_usage().sum() / 1024**2\n",
    "    for col in df.columns:\n",
    "        col_type = df[col].dtypes\n",
    "        if col_type in numerics:\n",
    "            c_min = df[col].min()\n",
    "            c_max = df[col].max()\n",
    "            if str(col_type)[:3] == 'int':\n",
    "                if c_min > np.iinfo(np.int8).min and c_max < np.iinfo(np.int8).max:\n",
    "                    df[col] = df[col].astype(np.int8)\n",
    "                elif c_min > np.iinfo(np.int16).min and c_max < np.iinfo(np.int16).max:\n",
    "                    df[col] = df[col].astype(np.int16)\n",
    "                elif c_min > np.iinfo(np.int32).min and c_max < np.iinfo(np.int32).max:\n",
    "                    df[col] = df[col].astype(np.int32)\n",
    "                elif c_min > np.iinfo(np.int64).min and c_max < np.iinfo(np.int64).max:\n",
    "                    df[col] = df[col].astype(np.int64)\n",
    "            else:\n",
    "                if c_min > np.finfo(np.float16).min and c_max < np.finfo(np.float16).max:\n",
    "                    df[col] = df[col].astype(np.float16)\n",
    "                elif c_min > np.finfo(np.float32).min and c_max < np.finfo(np.float32).max:\n",
    "                    df[col] = df[col].astype(np.float32)\n",
    "                else:\n",
    "                    df[col] = df[col].astype(np.float64)\n",
    "\n",
    "    end_mem = df.memory_usage().sum() / 1024**2\n",
    "    print('Memory usage after optimization is: {:.2f} MB'.format(end_mem))\n",
    "    print('Decreased by {:.1f}%'.format(100 * (start_mem - end_mem) / start_mem))\n",
    "\n",
    "    return df\n",
    "\n",
    "\n",
    "\n",
    "def na_dropper(data):\n",
    "    tot = data.shape[0]\n",
    "    for col in data.columns:\n",
    "        mis = data[col].isna().sum()\n",
    "        if ((mis/tot) > 0.60) and ('transactionRevenue' not in col): # quick escape from making a mistake\n",
    "            print(\"The column {} will be dropped because more than 60% of the entries are missing\".format(col))\n",
    "            del data[col]\n",
    "    return data\n",
    "\n",
    "\n",
    "def std_dropper(data,target_column):\n",
    "    data.reset_index()\n",
    "    std = data[target_column].std()\n",
    "    median = data[target_column].median()\n",
    "    print('rows berofe dropping {}'.format(data.shape[0]))\n",
    "    print('lower',median-0.5*median)\n",
    "    print('upper',median+0.5*median)\n",
    "    \n",
    "    print('lower indexes',data[data[target_column]<median-0.5*median].index)\n",
    "    print('upper indexes',data[data[target_column]<median-0.5*median].index)\n",
    "    data = data[data[target_column]>median-0.5*median]\n",
    "\n",
    "    data = data[data[target_column]<median+0.5*median]\n",
    "    print('rows after dropping {}'.format(data.shape[0]))\n",
    "    return data\n",
    "    \n",
    "\n",
    "\n",
    "\n",
    "\n"
   ]
  },
  {
   "cell_type": "code",
   "execution_count": 89,
   "metadata": {},
   "outputs": [],
   "source": [
    "train = pd.read_csv('new_train.csv')\n"
   ]
  },
  {
   "cell_type": "code",
   "execution_count": 90,
   "metadata": {},
   "outputs": [
    {
     "name": "stdout",
     "output_type": "stream",
     "text": [
      "The column Посел. район will be dropped because more than 60% of the entries are missing\n",
      "The column Тип санузла will be dropped because more than 60% of the entries are missing\n",
      "done col= Терр. единица\n",
      "done col= Терр. район\n",
      "done col= Округ\n",
      "done col= Улица\n",
      "done col= Дата регистрации\n",
      "done col= Цена\n",
      "done col= Форма собственности\n",
      "done col= Назначение\n",
      "done col= Форма использования\n",
      "done col= Площадь строения\n",
      "done col= Площадь зем.участка\n",
      "done col= Матер. Стен\n",
      "done col= Тип кровли\n",
      "done col= Этаж\n",
      "done col= Кол-во этажей в здании\n",
      "done col= Отопление\n",
      "done col= Газификация\n",
      "done col= Серия квартиры\n",
      "done col= Наличие бани/сауны\n",
      "done col= Кол-во комнат\n"
     ]
    }
   ],
   "source": [
    "#Data preprocessing\n",
    "\n",
    "train = na_dropper(train)\n",
    "train = preprocess(train)"
   ]
  },
  {
   "cell_type": "code",
   "execution_count": 105,
   "metadata": {},
   "outputs": [
    {
     "name": "stdout",
     "output_type": "stream",
     "text": [
      "rows berofe dropping 178803\n",
      "lower 1263.5\n",
      "upper 3790.5\n",
      "lower indexes Int64Index([    29,    122,    145,    170,    172,    216,    234,    235,\n",
      "               236,    241,\n",
      "            ...\n",
      "            178793, 178794, 178795, 178796, 178797, 178798, 178799, 178800,\n",
      "            178801, 178802],\n",
      "           dtype='int64', length=62419)\n",
      "upper indexes Int64Index([    29,    122,    145,    170,    172,    216,    234,    235,\n",
      "               236,    241,\n",
      "            ...\n",
      "            178793, 178794, 178795, 178796, 178797, 178798, 178799, 178800,\n",
      "            178801, 178802],\n",
      "           dtype='int64', length=62419)\n",
      "rows after dropping 45233\n"
     ]
    }
   ],
   "source": [
    "train =chage_dtypes(train)\n",
    "train = std_dropper(train,'Цена')\n",
    "\n",
    "\n",
    "targets = train['Цена']\n",
    "del train['Цена']"
   ]
  },
  {
   "cell_type": "code",
   "execution_count": 106,
   "metadata": {},
   "outputs": [],
   "source": [
    "x_train,x_test,y_train,y_test = sk.model_selection.train_test_split(train,targets)\n",
    "del train \n",
    "del targets"
   ]
  },
  {
   "cell_type": "code",
   "execution_count": 107,
   "metadata": {},
   "outputs": [
    {
     "name": "stdout",
     "output_type": "stream",
     "text": [
      "Before feature selection 4720\n",
      "after feature selection 239\n",
      "Estimator coefs [-1.23549541e-04 -1.25471319e-06 -8.38180365e-01 ...  3.05606719e+07\n",
      "  3.05606344e+07  3.05606718e+07]\n",
      "Threshold 626737.1846924172\n"
     ]
    }
   ],
   "source": [
    "#feat selection\n",
    "from sklearn.feature_selection import SelectFromModel\n",
    "lr = sk.linear_model.LinearRegression()\n",
    "lr.fit(x_train,y_train)\n",
    "selector = SelectFromModel(estimator=lr)\n",
    "selector.fit(x_train,y_train)\n",
    "print('Before feature selection',x_train.shape[1])\n",
    "x_train =selector.transform(x_train)\n",
    "print('after feature selection',x_train.shape[1])    \n",
    "x_test = selector.transform(x_test)\n",
    "print('Estimator coefs',lr.coef_)\n",
    "print('Threshold',selector.threshold_)"
   ]
  },
  {
   "cell_type": "code",
   "execution_count": 108,
   "metadata": {},
   "outputs": [
    {
     "name": "stdout",
     "output_type": "stream",
     "text": [
      "(33924, 239)\n"
     ]
    }
   ],
   "source": [
    "print(x_train.shape)"
   ]
  },
  {
   "cell_type": "code",
   "execution_count": 173,
   "metadata": {},
   "outputs": [],
   "source": [
    "#Building model\n",
    "from sklearn.ensemble import RandomForestRegressor\n",
    "model = sk.ensemble.AdaBoostRegressor(\n",
    "                                            n_estimators=55\n",
    "                                              #,n_jobs=-1\n",
    "                                             )\n",
    "model.fit(x_train,y_train)\n",
    "pred = model.predict(x_test)\n"
   ]
  },
  {
   "cell_type": "code",
   "execution_count": 174,
   "metadata": {},
   "outputs": [
    {
     "name": "stdout",
     "output_type": "stream",
     "text": [
      "r2 score 0.056872057259557796\n"
     ]
    }
   ],
   "source": [
    "print('r2 score',sk.metrics.r2_score(y_test,pred))"
   ]
  },
  {
   "cell_type": "code",
   "execution_count": 175,
   "metadata": {},
   "outputs": [
    {
     "name": "stdout",
     "output_type": "stream",
     "text": [
      "[2343.47803928 2610.6822753  2343.47803928 ... 2563.23248239 2343.47803928\n",
      " 2437.74445101]\n"
     ]
    }
   ],
   "source": [
    "print(pred)"
   ]
  },
  {
   "cell_type": "code",
   "execution_count": 176,
   "metadata": {},
   "outputs": [
    {
     "name": "stdout",
     "output_type": "stream",
     "text": [
      "         Цена\n",
      "0      1444.0\n",
      "1      2888.0\n",
      "2      2707.0\n",
      "3      1386.0\n",
      "4      1624.0\n",
      "...       ...\n",
      "11304  2346.0\n",
      "11305  1805.0\n",
      "11306  2490.0\n",
      "11307  2707.0\n",
      "11308  2527.0\n",
      "\n",
      "[11309 rows x 1 columns]\n"
     ]
    }
   ],
   "source": [
    "print(y_test)"
   ]
  },
  {
   "cell_type": "code",
   "execution_count": 177,
   "metadata": {},
   "outputs": [
    {
     "name": "stdout",
     "output_type": "stream",
     "text": [
      "617.8839440021076\n"
     ]
    }
   ],
   "source": [
    "print(sk.metrics.mean_absolute_error(y_test,pred))"
   ]
  },
  {
   "cell_type": "code",
   "execution_count": 178,
   "metadata": {},
   "outputs": [
    {
     "name": "stdout",
     "output_type": "stream",
     "text": [
      "0.056836724831332286\n"
     ]
    }
   ],
   "source": [
    "print(sk.metrics.r2_score(y_train,model.predict(x_train)))"
   ]
  },
  {
   "cell_type": "code",
   "execution_count": 179,
   "metadata": {},
   "outputs": [
    {
     "data": {
      "text/html": [
       "<div>\n",
       "<style scoped>\n",
       "    .dataframe tbody tr th:only-of-type {\n",
       "        vertical-align: middle;\n",
       "    }\n",
       "\n",
       "    .dataframe tbody tr th {\n",
       "        vertical-align: top;\n",
       "    }\n",
       "\n",
       "    .dataframe thead th {\n",
       "        text-align: right;\n",
       "    }\n",
       "</style>\n",
       "<table border=\"1\" class=\"dataframe\">\n",
       "  <thead>\n",
       "    <tr style=\"text-align: right;\">\n",
       "      <th></th>\n",
       "      <th>Цена</th>\n",
       "    </tr>\n",
       "  </thead>\n",
       "  <tbody>\n",
       "    <tr>\n",
       "      <th>count</th>\n",
       "      <td>11309.000000</td>\n",
       "    </tr>\n",
       "    <tr>\n",
       "      <th>mean</th>\n",
       "      <td>2423.393050</td>\n",
       "    </tr>\n",
       "    <tr>\n",
       "      <th>std</th>\n",
       "      <td>740.257975</td>\n",
       "    </tr>\n",
       "    <tr>\n",
       "      <th>min</th>\n",
       "      <td>1267.000000</td>\n",
       "    </tr>\n",
       "    <tr>\n",
       "      <th>25%</th>\n",
       "      <td>1805.000000</td>\n",
       "    </tr>\n",
       "    <tr>\n",
       "      <th>50%</th>\n",
       "      <td>2346.000000</td>\n",
       "    </tr>\n",
       "    <tr>\n",
       "      <th>75%</th>\n",
       "      <td>3018.000000</td>\n",
       "    </tr>\n",
       "    <tr>\n",
       "      <th>max</th>\n",
       "      <td>3790.000000</td>\n",
       "    </tr>\n",
       "  </tbody>\n",
       "</table>\n",
       "</div>"
      ],
      "text/plain": [
       "               Цена\n",
       "count  11309.000000\n",
       "mean    2423.393050\n",
       "std      740.257975\n",
       "min     1267.000000\n",
       "25%     1805.000000\n",
       "50%     2346.000000\n",
       "75%     3018.000000\n",
       "max     3790.000000"
      ]
     },
     "execution_count": 179,
     "metadata": {},
     "output_type": "execute_result"
    }
   ],
   "source": [
    "y_test.describe()"
   ]
  },
  {
   "cell_type": "code",
   "execution_count": 180,
   "metadata": {},
   "outputs": [
    {
     "data": {
      "text/html": [
       "<div>\n",
       "<style scoped>\n",
       "    .dataframe tbody tr th:only-of-type {\n",
       "        vertical-align: middle;\n",
       "    }\n",
       "\n",
       "    .dataframe tbody tr th {\n",
       "        vertical-align: top;\n",
       "    }\n",
       "\n",
       "    .dataframe thead th {\n",
       "        text-align: right;\n",
       "    }\n",
       "</style>\n",
       "<table border=\"1\" class=\"dataframe\">\n",
       "  <thead>\n",
       "    <tr style=\"text-align: right;\">\n",
       "      <th></th>\n",
       "      <th>0</th>\n",
       "    </tr>\n",
       "  </thead>\n",
       "  <tbody>\n",
       "    <tr>\n",
       "      <th>count</th>\n",
       "      <td>11309.000000</td>\n",
       "    </tr>\n",
       "    <tr>\n",
       "      <th>mean</th>\n",
       "      <td>2475.956191</td>\n",
       "    </tr>\n",
       "    <tr>\n",
       "      <th>std</th>\n",
       "      <td>114.548484</td>\n",
       "    </tr>\n",
       "    <tr>\n",
       "      <th>min</th>\n",
       "      <td>2275.469952</td>\n",
       "    </tr>\n",
       "    <tr>\n",
       "      <th>25%</th>\n",
       "      <td>2388.358776</td>\n",
       "    </tr>\n",
       "    <tr>\n",
       "      <th>50%</th>\n",
       "      <td>2463.082992</td>\n",
       "    </tr>\n",
       "    <tr>\n",
       "      <th>75%</th>\n",
       "      <td>2542.386328</td>\n",
       "    </tr>\n",
       "    <tr>\n",
       "      <th>max</th>\n",
       "      <td>2918.037409</td>\n",
       "    </tr>\n",
       "  </tbody>\n",
       "</table>\n",
       "</div>"
      ],
      "text/plain": [
       "                  0\n",
       "count  11309.000000\n",
       "mean    2475.956191\n",
       "std      114.548484\n",
       "min     2275.469952\n",
       "25%     2388.358776\n",
       "50%     2463.082992\n",
       "75%     2542.386328\n",
       "max     2918.037409"
      ]
     },
     "execution_count": 180,
     "metadata": {},
     "output_type": "execute_result"
    }
   ],
   "source": [
    "pred=pd.DataFrame(pred)\n",
    "pred.describe()"
   ]
  },
  {
   "cell_type": "code",
   "execution_count": null,
   "metadata": {},
   "outputs": [
    {
     "name": "stdout",
     "output_type": "stream",
     "text": [
      "  0%|                                                                           | 0/50 [00:00<?, ?trial/s, best loss=?]"
     ]
    }
   ],
   "source": [
    "def hyperparameter_tuning(params):\n",
    "    regr = sk.ensemble.RandomForestClassifier(n_jobs=-1)\n",
    "    regr.fit(x_train,y_train)\n",
    "    acc = sk.metrics.r2_score(y_test,regr.predict(x_test))\n",
    "    print(acc)\n",
    "    return {\"loss\": -acc, \"status\": STATUS_OK}\n",
    "\n",
    "\n",
    "space = {\n",
    "    \"n_estimators\": hp.quniform('n_estimators',100,10000,250),\n",
    "    #\"criterion\": hp.choice(\"criterion\",[\"friedman_mse\",\"mse\",\"mae\"])\n",
    "\n",
    "}\n",
    "\n",
    "#Initialize trials object\n",
    "trials = Trials()\n",
    "\n",
    "best = fmin(\n",
    "    fn=hyperparameter_tuning,\n",
    "    space = space, \n",
    "    algo=tpe.suggest, \n",
    "    max_evals=50, \n",
    "    trials=trials\n",
    ")\n",
    "\n",
    "print(\"Best: {}\".format(best))\n"
   ]
  },
  {
   "cell_type": "code",
   "execution_count": null,
   "metadata": {},
   "outputs": [],
   "source": []
  }
 ],
 "metadata": {
  "kernelspec": {
   "display_name": "Python 3",
   "language": "python",
   "name": "python3"
  },
  "language_info": {
   "codemirror_mode": {
    "name": "ipython",
    "version": 3
   },
   "file_extension": ".py",
   "mimetype": "text/x-python",
   "name": "python",
   "nbconvert_exporter": "python",
   "pygments_lexer": "ipython3",
   "version": "3.8.6"
  }
 },
 "nbformat": 4,
 "nbformat_minor": 4
}
